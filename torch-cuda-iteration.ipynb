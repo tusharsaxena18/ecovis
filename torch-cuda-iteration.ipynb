{
 "cells": [
  {
   "cell_type": "markdown",
   "metadata": {},
   "source": [
    "#### Importing Libraries"
   ]
  },
  {
   "cell_type": "code",
   "execution_count": 1,
   "metadata": {},
   "outputs": [],
   "source": [
    "import torch\n",
    "import torchvision\n",
    "from torch.utils.data import DataLoader\n",
    "from torchvision.datasets import ImageFolder\n",
    "import torchvision.transforms as transforms\n",
    "from torch.optim.lr_scheduler import ReduceLROnPlateau\n",
    "import torch.nn as nn\n",
    "import torch.nn.functional as F\n",
    "import matplotlib.pyplot as plt\n",
    "import numpy as np\n",
    "import pandas as pd\n",
    "from PIL import Image"
   ]
  },
  {
   "cell_type": "markdown",
   "metadata": {},
   "source": [
    "#### Hyperparameters"
   ]
  },
  {
   "cell_type": "code",
   "execution_count": 2,
   "metadata": {},
   "outputs": [],
   "source": [
    "batch_size = 32\n",
    "classes = 6\n",
    "learning_rate = 0.001\n",
    "epochs = 64\n",
    "# dropout_rate = 0.1"
   ]
  },
  {
   "cell_type": "markdown",
   "metadata": {},
   "source": [
    "#### Initializing CUDA"
   ]
  },
  {
   "cell_type": "code",
   "execution_count": 3,
   "metadata": {},
   "outputs": [],
   "source": [
    "device = torch.device('cuda' if torch.cuda.is_available() else 'cpu')"
   ]
  },
  {
   "cell_type": "markdown",
   "metadata": {},
   "source": [
    "#### Preprocessing "
   ]
  },
  {
   "cell_type": "code",
   "execution_count": 4,
   "metadata": {},
   "outputs": [],
   "source": [
    "# Computed Values from values.py\n",
    "# Mean: [0.6502255201339722, 0.626167893409729, 0.5942673683166504]\n",
    "# Std: [0.26641741394996643, 0.263718843460083, 0.277700275182724]"
   ]
  },
  {
   "cell_type": "code",
   "execution_count": 5,
   "metadata": {},
   "outputs": [],
   "source": [
    "test_transforms = transforms.Compose([transforms.Resize((224,224)),\n",
    "                                        transforms.ToTensor(),\n",
    "                                        transforms.Normalize(mean=[0.6502, 0.6261, 0.5942],\n",
    "                                                          std=[0.2664, 0.2637, 0.2777])\n",
    "                                         ])\n",
    "\n",
    "train_transforms = transforms.Compose([transforms.Resize((32, 32)), \n",
    "                                        transforms.RandomRotation(20), \n",
    "                                        transforms.RandomResizedCrop(224, scale=(0.8, 1.2)), \n",
    "                                        transforms.RandomHorizontalFlip(), \n",
    "                                        transforms.RandomAffine(degrees=0, shear=20), \n",
    "                                        transforms.RandomApply([transforms.ColorJitter(brightness=0.2, contrast=0.2)], p=0.5), \n",
    "                                        transforms.ToTensor(), \n",
    "                                        transforms.Normalize(mean=[0.6502, 0.6261, 0.5942],\n",
    "                                                          std=[0.2664, 0.2637, 0.2777]) \n",
    "                                        ])"
   ]
  },
  {
   "cell_type": "markdown",
   "metadata": {},
   "source": [
    "#### Importing Dataset"
   ]
  },
  {
   "cell_type": "code",
   "execution_count": 6,
   "metadata": {},
   "outputs": [
    {
     "name": "stdout",
     "output_type": "stream",
     "text": [
      "Training dataset size: 5568 images\n",
      "Testing dataset size: 1835 images\n"
     ]
    }
   ],
   "source": [
    "train_dataset = ImageFolder(root=\"./dataset/training\", transform=train_transforms)\n",
    "test_dataset = ImageFolder(root=\"./dataset/testing\", transform=test_transforms)\n",
    "\n",
    "train_loader = DataLoader(train_dataset, batch_size=16, shuffle=True, num_workers=0)\n",
    "test_loader = DataLoader(test_dataset, batch_size=16, shuffle=False, num_workers=0)\n",
    "\n",
    "print(f\"Training dataset size: {len(train_dataset)} images\")\n",
    "print(f\"Testing dataset size: {len(test_dataset)} images\")"
   ]
  },
  {
   "cell_type": "markdown",
   "metadata": {},
   "source": [
    "#### Defining neural network"
   ]
  },
  {
   "cell_type": "code",
   "execution_count": 7,
   "metadata": {},
   "outputs": [],
   "source": [
    "# class CNN(nn.Module):\n",
    "#     def __init__(self, num_classes=5, img_height=224, img_width=224, dropout_rate=0.5):\n",
    "#         super(CNN, self).__init__()\n",
    "        \n",
    "\n",
    "#         self.conv1 = nn.Conv2d(in_channels=3, out_channels=32, kernel_size=3, padding=1)\n",
    "#         self.pool = nn.MaxPool2d(kernel_size=2, stride=2)\n",
    "        \n",
    "#         self.conv2 = nn.Conv2d(in_channels=32, out_channels=64, kernel_size=3, padding=1)\n",
    "#         self.conv3 = nn.Conv2d(in_channels=64, out_channels=128, kernel_size=3, padding=1)\n",
    "\n",
    "#         # self.dropout_conv = nn.Dropout(p=dropout_rate / 2) \n",
    "#         # self.dropout_fc = nn.Dropout(p=dropout_rate) \n",
    "\n",
    "#         final_size = img_height // 8  \n",
    "#         final_size = img_width // 8\n",
    "\n",
    "#         # Fully Connected Layers\n",
    "#         self.fc1 = nn.Linear(128 * final_size * final_size, 512)\n",
    "#         self.fc2 = nn.Linear(512, num_classes)\n",
    "\n",
    "#     def forward(self, x):\n",
    "#         x = self.pool(F.relu(self.conv1(x)))\n",
    "#         # x = self.dropout_conv(x)  \n",
    "        \n",
    "#         x = self.pool(F.relu(self.conv2(x)))\n",
    "#         # x = self.dropout_conv(x)\n",
    "        \n",
    "#         x = self.pool(F.relu(self.conv3(x)))\n",
    "#         # x = self.dropout_conv(x)\n",
    "\n",
    "#         x = x.view(x.size(0), -1)\n",
    "#         x = F.relu(self.fc1(x))\n",
    "#         # x = self.dropout_fc(x)  \n",
    "\n",
    "#         x = self.fc2(x)  \n",
    "#         return x"
   ]
  },
  {
   "cell_type": "code",
   "execution_count": 8,
   "metadata": {},
   "outputs": [],
   "source": [
    "# class CNN(nn.Module):\n",
    "#     def __init__(self, num_classes=10,img_height=32, img_width=32):\n",
    "#         super(CNN, self).__init__()\n",
    "\n",
    "#         self.conv1 = nn.Conv2d(in_channels=3, out_channels=32, kernel_size=3, padding=1)\n",
    "#         self.conv2 = nn.Conv2d(in_channels=32, out_channels=64, kernel_size=3, padding=1)\n",
    "\n",
    "#         self.pool = nn.MaxPool2d(kernel_size=2, stride=2)  \n",
    "\n",
    "#         self.conv3 = nn.Conv2d(in_channels=64, out_channels=128, kernel_size=3, padding=1)\n",
    "#         self.conv4 = nn.Conv2d(in_channels=128, out_channels=256, kernel_size=3, padding=1)\n",
    "\n",
    "#         self.pool2 = nn.MaxPool2d(kernel_size=2, stride=2) \n",
    "\n",
    "#         self.fc1 = nn.Linear(256 * 8 * 8, 512)  \n",
    "#         self.fc2 = nn.Linear(512, num_classes) \n",
    "\n",
    "#     def forward(self, x):\n",
    "#         x = F.relu(self.conv1(x))\n",
    "#         x = F.relu(self.conv2(x))\n",
    "#         x = self.pool(x) \n",
    "\n",
    "#         x = F.relu(self.conv3(x))\n",
    "#         x = F.relu(self.conv4(x))\n",
    "#         x = self.pool2(x) \n",
    "\n",
    "#         print(\"Before flattening:\", x.shape)\n",
    "#         x = x.view(x.size(0), -1)  \n",
    "#         print(\"After flattening:\", x.shape) \n",
    "\n",
    "#         x = F.relu(self.fc1(x))\n",
    "#         x = self.fc2(x)\n",
    "#         return x"
   ]
  },
  {
   "cell_type": "code",
   "execution_count": 9,
   "metadata": {},
   "outputs": [],
   "source": [
    "class CNN(nn.Module):\n",
    "    def __init__(self, num_classes=5, img_height=224, img_width=224):\n",
    "        super(CNN, self).__init__()\n",
    "        \n",
    "        self.conv1 = nn.Conv2d(in_channels=3, out_channels=32, kernel_size=3, padding=1)\n",
    "        self.conv2 = nn.Conv2d(in_channels=32, out_channels=64, kernel_size=3, padding=1)\n",
    "        self.conv3 = nn.Conv2d(in_channels=64, out_channels=128, kernel_size=3, padding=1)\n",
    "        self.conv4 = nn.Conv2d(in_channels=128, out_channels=256, kernel_size=3, padding=1)\n",
    "        \n",
    "        self.pool = nn.MaxPool2d(kernel_size=2, stride=2)\n",
    "\n",
    "        final_size = img_height // 16  \n",
    "        final_size = img_width // 16\n",
    "        \n",
    "        # Fully Connected Layers\n",
    "        self.fc1 = nn.Linear(256 * final_size * final_size, 512)\n",
    "        self.fc2 = nn.Linear(512, num_classes)\n",
    "\n",
    "    def forward(self, x):\n",
    "        x = self.pool(F.relu(self.conv1(x)))\n",
    "        x = self.pool(F.relu(self.conv2(x)))\n",
    "        x = self.pool(F.relu(self.conv3(x)))\n",
    "        x = self.pool(F.relu(self.conv4(x)))\n",
    "\n",
    "        x = x.view(x.size(0), -1)\n",
    "        x = F.relu(self.fc1(x))\n",
    "        x = self.fc2(x)  \n",
    "        return x"
   ]
  },
  {
   "cell_type": "markdown",
   "metadata": {},
   "source": [
    "#### Setting up the model"
   ]
  },
  {
   "cell_type": "code",
   "execution_count": 10,
   "metadata": {},
   "outputs": [
    {
     "name": "stderr",
     "output_type": "stream",
     "text": [
      "c:\\Users\\Tushar\\miniconda3\\envs\\torch-cuda\\Lib\\site-packages\\torch\\optim\\lr_scheduler.py:62: UserWarning: The verbose parameter is deprecated. Please use get_last_lr() to access the learning rate.\n",
      "  warnings.warn(\n"
     ]
    }
   ],
   "source": [
    "# Init Model\n",
    "model = CNN(classes)\n",
    "# Init Loss Function\n",
    "criterion = nn.CrossEntropyLoss()\n",
    "# Init Optimizer\n",
    "optimizer = torch.optim.Adam(model.parameters(), lr=learning_rate)\n",
    "# Init Scheduler\n",
    "scheduler = ReduceLROnPlateau(optimizer, mode='min', factor=0.5, patience=2,verbose=True)\n",
    "total_step = len(train_loader)"
   ]
  },
  {
   "cell_type": "markdown",
   "metadata": {},
   "source": [
    "#### Fitting the Model"
   ]
  },
  {
   "cell_type": "code",
   "execution_count": 11,
   "metadata": {},
   "outputs": [
    {
     "name": "stdout",
     "output_type": "stream",
     "text": [
      "Epoch [1/64], Loss: 1.2724, Learning Rate: 0.001000\n",
      "Epoch [2/64], Loss: 1.2065, Learning Rate: 0.001000\n",
      "Epoch [3/64], Loss: 1.2297, Learning Rate: 0.001000\n",
      "Epoch [4/64], Loss: 0.5002, Learning Rate: 0.001000\n",
      "Epoch [5/64], Loss: 1.1028, Learning Rate: 0.001000\n",
      "Epoch [6/64], Loss: 0.9160, Learning Rate: 0.001000\n",
      "Epoch [7/64], Loss: 0.8945, Learning Rate: 0.001000\n",
      "Epoch [8/64], Loss: 1.0467, Learning Rate: 0.001000\n",
      "Epoch [9/64], Loss: 1.0594, Learning Rate: 0.001000\n",
      "Epoch [10/64], Loss: 0.6875, Learning Rate: 0.001000\n",
      "Epoch [11/64], Loss: 1.9038, Learning Rate: 0.001000\n",
      "Epoch [12/64], Loss: 0.5753, Learning Rate: 0.001000\n",
      "Epoch [13/64], Loss: 0.2671, Learning Rate: 0.001000\n",
      "Epoch [14/64], Loss: 0.4198, Learning Rate: 0.001000\n",
      "Epoch [15/64], Loss: 0.3325, Learning Rate: 0.001000\n",
      "Epoch [16/64], Loss: 0.7312, Learning Rate: 0.001000\n",
      "Epoch [17/64], Loss: 0.4503, Learning Rate: 0.001000\n",
      "Epoch [18/64], Loss: 0.2492, Learning Rate: 0.001000\n",
      "Epoch [19/64], Loss: 0.7805, Learning Rate: 0.001000\n",
      "Epoch [20/64], Loss: 0.4135, Learning Rate: 0.001000\n",
      "Epoch [21/64], Loss: 0.4135, Learning Rate: 0.001000\n",
      "Epoch [22/64], Loss: 0.5024, Learning Rate: 0.001000\n",
      "Epoch [23/64], Loss: 0.5402, Learning Rate: 0.001000\n",
      "Epoch [24/64], Loss: 0.4871, Learning Rate: 0.001000\n",
      "Epoch [25/64], Loss: 0.9285, Learning Rate: 0.001000\n",
      "Epoch [26/64], Loss: 0.6008, Learning Rate: 0.001000\n",
      "Epoch [27/64], Loss: 0.5080, Learning Rate: 0.001000\n",
      "Epoch [28/64], Loss: 0.4204, Learning Rate: 0.001000\n",
      "Epoch [29/64], Loss: 0.2343, Learning Rate: 0.001000\n",
      "Epoch [30/64], Loss: 0.3962, Learning Rate: 0.001000\n",
      "Epoch [31/64], Loss: 0.2575, Learning Rate: 0.001000\n",
      "Epoch [32/64], Loss: 0.4083, Learning Rate: 0.001000\n",
      "Epoch [33/64], Loss: 0.3461, Learning Rate: 0.001000\n",
      "Epoch [34/64], Loss: 0.4143, Learning Rate: 0.000500\n",
      "Epoch [35/64], Loss: 0.1372, Learning Rate: 0.000500\n",
      "Epoch [36/64], Loss: 0.1524, Learning Rate: 0.000500\n",
      "Epoch [37/64], Loss: 0.1619, Learning Rate: 0.000500\n",
      "Epoch [38/64], Loss: 0.5777, Learning Rate: 0.000500\n",
      "Epoch [39/64], Loss: 0.5776, Learning Rate: 0.000500\n",
      "Epoch [40/64], Loss: 0.4234, Learning Rate: 0.000500\n",
      "Epoch [41/64], Loss: 0.1553, Learning Rate: 0.000500\n",
      "Epoch [42/64], Loss: 0.3495, Learning Rate: 0.000500\n",
      "Epoch [43/64], Loss: 0.3455, Learning Rate: 0.000500\n",
      "Epoch [44/64], Loss: 0.3697, Learning Rate: 0.000500\n",
      "Epoch [45/64], Loss: 0.1984, Learning Rate: 0.000500\n",
      "Epoch [46/64], Loss: 0.2659, Learning Rate: 0.000500\n",
      "Epoch [47/64], Loss: 0.2218, Learning Rate: 0.000500\n",
      "Epoch [48/64], Loss: 0.1560, Learning Rate: 0.000500\n",
      "Epoch [49/64], Loss: 0.1942, Learning Rate: 0.000500\n",
      "Epoch [50/64], Loss: 0.2240, Learning Rate: 0.000500\n",
      "Epoch [51/64], Loss: 0.0432, Learning Rate: 0.000500\n",
      "Epoch [52/64], Loss: 0.2594, Learning Rate: 0.000500\n",
      "Epoch [53/64], Loss: 0.1216, Learning Rate: 0.000500\n",
      "Epoch [54/64], Loss: 0.1440, Learning Rate: 0.000500\n",
      "Epoch [55/64], Loss: 0.0796, Learning Rate: 0.000500\n",
      "Epoch [56/64], Loss: 0.0162, Learning Rate: 0.000500\n",
      "Epoch [57/64], Loss: 0.4960, Learning Rate: 0.000500\n",
      "Epoch [58/64], Loss: 0.1430, Learning Rate: 0.000500\n",
      "Epoch [59/64], Loss: 0.0320, Learning Rate: 0.000500\n",
      "Epoch [60/64], Loss: 0.1926, Learning Rate: 0.000500\n",
      "Epoch [61/64], Loss: 0.0165, Learning Rate: 0.000500\n",
      "Epoch [62/64], Loss: 0.1601, Learning Rate: 0.000250\n",
      "Epoch [63/64], Loss: 0.1512, Learning Rate: 0.000250\n",
      "Epoch [64/64], Loss: 0.1691, Learning Rate: 0.000250\n"
     ]
    }
   ],
   "source": [
    "torch.cuda.empty_cache()\n",
    "model.to(device)\n",
    "\n",
    "for epoch in range(epochs):\n",
    "    epoch_loss = 0.0\n",
    "\n",
    "    for i, (images, labels) in enumerate(train_loader):  \n",
    "        images = images.to(device)\n",
    "        labels = labels.to(device)\n",
    "        \n",
    "        outputs = model(images)\n",
    "        loss = criterion(outputs, labels)\n",
    "        \n",
    "        optimizer.zero_grad()\n",
    "        loss.backward()\n",
    "        optimizer.step()\n",
    "        epoch_loss += loss.item()\n",
    "\n",
    "    avg_loss = epoch_loss / len(train_loader) \n",
    "    scheduler.step(avg_loss)  \n",
    "\n",
    "    print('Epoch [{}/{}], Loss: {:.4f}, Learning Rate: {:.6f}'.format(epoch+1, epochs, loss.item(),optimizer.param_groups[0][\"lr\"]))"
   ]
  },
  {
   "cell_type": "markdown",
   "metadata": {},
   "source": [
    "#### Testing"
   ]
  },
  {
   "cell_type": "code",
   "execution_count": 14,
   "metadata": {},
   "outputs": [
    {
     "name": "stdout",
     "output_type": "stream",
     "text": [
      "Accuracy of the network on the 4171 test images: 70.300%\n",
      "Accuracy of the network on the 13606 train images: 95.708%\n"
     ]
    }
   ],
   "source": [
    "with torch.no_grad():\n",
    "    correct = 0\n",
    "    total = 0\n",
    "    for images, labels in test_loader:\n",
    "        images = images.to(device)\n",
    "        labels = labels.to(device)\n",
    "        outputs = model(images)\n",
    "        _, predicted = torch.max(outputs.data, 1)\n",
    "        total += labels.size(0)\n",
    "        correct += (predicted == labels).sum().item()\n",
    "    \n",
    "    print('Accuracy of the network on the {} test images: {:.3f}%'.format(4171, 100 * correct / total))\n",
    "\n",
    "with torch.no_grad():\n",
    "    correct = 0\n",
    "    total = 0\n",
    "    for images, labels in train_loader:\n",
    "        images = images.to(device)\n",
    "        labels = labels.to(device)\n",
    "        outputs = model(images)\n",
    "        _, predicted = torch.max(outputs.data, 1)\n",
    "        total += labels.size(0)\n",
    "        correct += (predicted == labels).sum().item()\n",
    "    \n",
    "    print('Accuracy of the network on the {} train images: {:.3f}%'.format(13606, 100 * correct / total))"
   ]
  },
  {
   "cell_type": "code",
   "execution_count": 13,
   "metadata": {},
   "outputs": [],
   "source": [
    "torch.save(model,\"ecovis alpha-v0.3.pkl\")"
   ]
  }
 ],
 "metadata": {
  "kernelspec": {
   "display_name": "torch-cuda",
   "language": "python",
   "name": "python3"
  },
  "language_info": {
   "codemirror_mode": {
    "name": "ipython",
    "version": 3
   },
   "file_extension": ".py",
   "mimetype": "text/x-python",
   "name": "python",
   "nbconvert_exporter": "python",
   "pygments_lexer": "ipython3",
   "version": "3.12.9"
  }
 },
 "nbformat": 4,
 "nbformat_minor": 2
}
