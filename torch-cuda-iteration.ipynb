{
 "cells": [
  {
   "cell_type": "markdown",
   "metadata": {},
   "source": [
    "#### Importing Libraries"
   ]
  },
  {
   "cell_type": "code",
   "execution_count": 1,
   "metadata": {},
   "outputs": [],
   "source": [
    "import torch\n",
    "import torchvision\n",
    "from torch.utils.data import DataLoader\n",
    "from torchvision.datasets import ImageFolder\n",
    "import torchvision.transforms as transforms\n",
    "from torch.optim.lr_scheduler import ReduceLROnPlateau\n",
    "import torch.nn as nn\n",
    "import torch.nn.functional as F\n",
    "from PIL import Image"
   ]
  },
  {
   "cell_type": "markdown",
   "metadata": {},
   "source": [
    "#### Hyperparameters"
   ]
  },
  {
   "cell_type": "code",
   "execution_count": null,
   "metadata": {},
   "outputs": [],
   "source": [
    "batch_size = 64\n",
    "classes = 6\n",
    "learning_rate = 0.001\n",
    "epochs = 64\n",
    "dropout_rate = 0.3"
   ]
  },
  {
   "cell_type": "markdown",
   "metadata": {},
   "source": [
    "#### Initializing CUDA"
   ]
  },
  {
   "cell_type": "code",
   "execution_count": 3,
   "metadata": {},
   "outputs": [],
   "source": [
    "device = torch.device('cuda' if torch.cuda.is_available() else 'cpu')"
   ]
  },
  {
   "cell_type": "markdown",
   "metadata": {},
   "source": [
    "#### Preprocessing "
   ]
  },
  {
   "cell_type": "code",
   "execution_count": 4,
   "metadata": {},
   "outputs": [],
   "source": [
    "# Computed Values from values.py\n",
    "# Mean: [0.6502255201339722, 0.626167893409729, 0.5942673683166504]\n",
    "# Std: [0.26641741394996643, 0.263718843460083, 0.277700275182724]"
   ]
  },
  {
   "cell_type": "code",
   "execution_count": 5,
   "metadata": {},
   "outputs": [],
   "source": [
    "test_transforms = transforms.Compose([transforms.Resize((224,224)),\n",
    "                                        transforms.ToTensor(),\n",
    "                                        transforms.Normalize(mean=[0.6502, 0.6261, 0.5942],\n",
    "                                                          std=[0.2664, 0.2637, 0.2777])\n",
    "                                         ])\n",
    "\n",
    "train_transforms = transforms.Compose([transforms.Resize((224, 224)), \n",
    "                                        transforms.RandomRotation(20), \n",
    "                                        transforms.RandomResizedCrop(224, scale=(0.8, 1.2)), \n",
    "                                        transforms.RandomHorizontalFlip(), \n",
    "                                        transforms.RandomAffine(degrees=0, shear=20), \n",
    "                                        transforms.RandomApply([transforms.ColorJitter(brightness=0.2, contrast=0.2)], p=0.5), \n",
    "                                        transforms.ToTensor(), \n",
    "                                        transforms.Normalize(mean=[0.6502, 0.6261, 0.5942],\n",
    "                                                          std=[0.2664, 0.2637, 0.2777]) \n",
    "                                        ])"
   ]
  },
  {
   "cell_type": "markdown",
   "metadata": {},
   "source": [
    "#### Importing Dataset"
   ]
  },
  {
   "cell_type": "code",
   "execution_count": 6,
   "metadata": {},
   "outputs": [
    {
     "name": "stdout",
     "output_type": "stream",
     "text": [
      "Training dataset size: 5568 images\n",
      "Testing dataset size: 1835 images\n"
     ]
    }
   ],
   "source": [
    "train_dataset = ImageFolder(root=\"./dataset/training\", transform=train_transforms)\n",
    "test_dataset = ImageFolder(root=\"./dataset/testing\", transform=test_transforms)\n",
    "\n",
    "train_loader = DataLoader(train_dataset, batch_size=16, shuffle=True, num_workers=0)\n",
    "test_loader = DataLoader(test_dataset, batch_size=16, shuffle=False, num_workers=0)\n",
    "\n",
    "print(f\"Training dataset size: {len(train_dataset)} images\")\n",
    "print(f\"Testing dataset size: {len(test_dataset)} images\")"
   ]
  },
  {
   "cell_type": "markdown",
   "metadata": {},
   "source": [
    "#### Defining neural network"
   ]
  },
  {
   "cell_type": "code",
   "execution_count": null,
   "metadata": {},
   "outputs": [],
   "source": [
    "class CNN(nn.Module):\n",
    "    def __init__(self, num_classes=5, img_height=224, img_width=224, dropout_rate=0.4):\n",
    "        super(CNN, self).__init__()\n",
    "        \n",
    "        self.conv1 = nn.Conv2d(in_channels=3, out_channels=32, kernel_size=3, padding=1)\n",
    "        self.conv2 = nn.Conv2d(in_channels=32, out_channels=64, kernel_size=3, padding=1)\n",
    "        self.conv3 = nn.Conv2d(in_channels=64, out_channels=128, kernel_size=3, padding=1)\n",
    "        self.conv4 = nn.Conv2d(in_channels=128, out_channels=256, kernel_size=3, padding=1)\n",
    "        \n",
    "        self.pool = nn.MaxPool2d(kernel_size=2, stride=2)\n",
    "        self.ddropropout = nn.Dropout(p=out_rate)  # Dropout layer\n",
    "\n",
    "        final_size = img_height // 16  \n",
    "        final_size = img_width // 16\n",
    "        \n",
    "        # Fully Connected Layers\n",
    "        self.fc1 = nn.Linear(256 * final_size * final_size, 512)\n",
    "        self.fc2 = nn.Linear(512, num_classes)\n",
    "\n",
    "    def forward(self, x):\n",
    "        x = self.pool(F.relu(self.conv1(x)))\n",
    "        x = self.pool(F.relu(self.conv2(x)))\n",
    "        x = self.pool(F.relu(self.conv3(x)))\n",
    "        x = self.pool(F.relu(self.conv4(x)))\n",
    "\n",
    "        x = x.view(x.size(0), -1)\n",
    "        x = F.relu(self.fc1(x))\n",
    "        x = self.dropout(x)  \n",
    "        x = self.fc2(x)  \n",
    "        return x"
   ]
  },
  {
   "cell_type": "markdown",
   "metadata": {},
   "source": [
    "#### Setting up the model"
   ]
  },
  {
   "cell_type": "code",
   "execution_count": 10,
   "metadata": {},
   "outputs": [
    {
     "name": "stderr",
     "output_type": "stream",
     "text": [
      "c:\\Users\\Tushar\\miniconda3\\envs\\torch-cuda\\Lib\\site-packages\\torch\\optim\\lr_scheduler.py:62: UserWarning: The verbose parameter is deprecated. Please use get_last_lr() to access the learning rate.\n",
      "  warnings.warn(\n"
     ]
    }
   ],
   "source": [
    "# Init Model\n",
    "model = CNN(classes)\n",
    "# Init Loss Function\n",
    "criterion = nn.CrossEntropyLoss()\n",
    "# Init Optimizer\n",
    "optimizer = torch.optim.AdamW(model.parameters(), lr=0.001, weight_decay=1e-4)\n",
    "# Init Scheduler\n",
    "scheduler = ReduceLROnPlateau(optimizer, mode='min', factor=0.5, patience=3,verbose=True)\n",
    "total_step = len(train_loader)"
   ]
  },
  {
   "cell_type": "markdown",
   "metadata": {},
   "source": [
    "#### Fitting the Model"
   ]
  },
  {
   "cell_type": "code",
   "execution_count": 11,
   "metadata": {},
   "outputs": [
    {
     "name": "stdout",
     "output_type": "stream",
     "text": [
      "Epoch [1/28], Loss: 1.1935, Learning Rate: 0.001000\n",
      "Epoch [2/28], Loss: 1.3656, Learning Rate: 0.001000\n",
      "Epoch [3/28], Loss: 1.6966, Learning Rate: 0.001000\n",
      "Epoch [4/28], Loss: 0.6973, Learning Rate: 0.001000\n",
      "Epoch [5/28], Loss: 0.7978, Learning Rate: 0.001000\n",
      "Epoch [6/28], Loss: 0.7625, Learning Rate: 0.001000\n",
      "Epoch [7/28], Loss: 1.0901, Learning Rate: 0.001000\n",
      "Epoch [8/28], Loss: 0.3958, Learning Rate: 0.001000\n",
      "Epoch [9/28], Loss: 0.5629, Learning Rate: 0.001000\n",
      "Epoch [10/28], Loss: 1.5292, Learning Rate: 0.001000\n",
      "Epoch [11/28], Loss: 0.5533, Learning Rate: 0.001000\n",
      "Epoch [12/28], Loss: 2.0296, Learning Rate: 0.001000\n",
      "Epoch [13/28], Loss: 0.4789, Learning Rate: 0.001000\n",
      "Epoch [14/28], Loss: 0.9219, Learning Rate: 0.001000\n",
      "Epoch [15/28], Loss: 1.1482, Learning Rate: 0.001000\n",
      "Epoch [16/28], Loss: 0.3371, Learning Rate: 0.001000\n",
      "Epoch [17/28], Loss: 0.7376, Learning Rate: 0.001000\n",
      "Epoch [18/28], Loss: 0.4491, Learning Rate: 0.001000\n",
      "Epoch [19/28], Loss: 0.5375, Learning Rate: 0.001000\n",
      "Epoch [20/28], Loss: 0.8674, Learning Rate: 0.001000\n",
      "Epoch [21/28], Loss: 0.3660, Learning Rate: 0.001000\n",
      "Epoch [22/28], Loss: 0.2546, Learning Rate: 0.001000\n",
      "Epoch [23/28], Loss: 0.2973, Learning Rate: 0.001000\n",
      "Epoch [24/28], Loss: 0.5617, Learning Rate: 0.001000\n",
      "Epoch [25/28], Loss: 0.1367, Learning Rate: 0.001000\n",
      "Epoch [26/28], Loss: 0.4336, Learning Rate: 0.001000\n",
      "Epoch [27/28], Loss: 0.6859, Learning Rate: 0.001000\n",
      "Epoch [28/28], Loss: 0.6330, Learning Rate: 0.001000\n"
     ]
    }
   ],
   "source": [
    "torch.cuda.empty_cache()\n",
    "model.to(device)\n",
    "\n",
    "for epoch in range(epochs):\n",
    "    epoch_loss = 0.0\n",
    "\n",
    "    for i, (images, labels) in enumerate(train_loader):  \n",
    "        images = images.to(device)\n",
    "        labels = labels.to(device)\n",
    "        \n",
    "        outputs = model(images)\n",
    "        loss = criterion(outputs, labels)\n",
    "        \n",
    "        optimizer.zero_grad()\n",
    "        loss.backward()\n",
    "        optimizer.step()\n",
    "        epoch_loss += loss.item()\n",
    "\n",
    "    avg_loss = epoch_loss / len(train_loader) \n",
    "    scheduler.step(avg_loss)  \n",
    "\n",
    "    print('Epoch [{}/{}], Loss: {:.4f}, Learning Rate: {:.6f}'.format(epoch+1, epochs, loss.item(),optimizer.param_groups[0][\"lr\"]))"
   ]
  },
  {
   "cell_type": "markdown",
   "metadata": {},
   "source": [
    "#### Testing"
   ]
  },
  {
   "cell_type": "code",
   "execution_count": 12,
   "metadata": {},
   "outputs": [
    {
     "name": "stdout",
     "output_type": "stream",
     "text": [
      "Accuracy of the network on the 1835 test images: 77.057%\n",
      "Accuracy of the network on the 5568 train images: 85.129%\n"
     ]
    }
   ],
   "source": [
    "with torch.no_grad():\n",
    "    correct = 0\n",
    "    total = 0\n",
    "    for images, labels in test_loader:\n",
    "        images = images.to(device)\n",
    "        labels = labels.to(device)\n",
    "        outputs = model(images)\n",
    "        _, predicted = torch.max(outputs.data, 1)\n",
    "        total += labels.size(0)\n",
    "        correct += (predicted == labels).sum().item()\n",
    "    \n",
    "    print('Accuracy of the network on the {} test images: {:.3f}%'.format(1835, 100 * correct / total))\n",
    "\n",
    "with torch.no_grad():\n",
    "    correct = 0\n",
    "    total = 0\n",
    "    for images, labels in train_loader:\n",
    "        images = images.to(device)\n",
    "        labels = labels.to(device)\n",
    "        outputs = model(images)\n",
    "        _, predicted = torch.max(outputs.data, 1)\n",
    "        total += labels.size(0)\n",
    "        correct += (predicted == labels).sum().item()\n",
    "    \n",
    "    print('Accuracy of the network on the {} train images: {:.3f}%'.format(5568, 100 * correct / total))"
   ]
  },
  {
   "cell_type": "code",
   "execution_count": 14,
   "metadata": {},
   "outputs": [],
   "source": [
    "torch.save(model,\"ecovis alpha-v0.9.pkl\")"
   ]
  },
  {
   "cell_type": "code",
   "execution_count": 16,
   "metadata": {},
   "outputs": [],
   "source": [
    "torch.save(model.state_dict(), \"ecovis.pth\")"
   ]
  }
 ],
 "metadata": {
  "kernelspec": {
   "display_name": "torch-cuda",
   "language": "python",
   "name": "python3"
  },
  "language_info": {
   "codemirror_mode": {
    "name": "ipython",
    "version": 3
   },
   "file_extension": ".py",
   "mimetype": "text/x-python",
   "name": "python",
   "nbconvert_exporter": "python",
   "pygments_lexer": "ipython3",
   "version": "3.12.9"
  }
 },
 "nbformat": 4,
 "nbformat_minor": 2
}
